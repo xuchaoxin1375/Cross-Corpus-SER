{
 "cells": [
  {
   "cell_type": "code",
   "execution_count": 4,
   "metadata": {},
   "outputs": [],
   "source": [
    "import data_extractor as de\n",
    "from data_extractor import AudioExtractor"
   ]
  },
  {
   "cell_type": "code",
   "execution_count": 17,
   "metadata": {},
   "outputs": [],
   "source": [
    "import os\n",
    "from  pathlib import Path\n",
    "from glob import glob\n",
    "ae=AudioExtractor()\n",
    "desc_file='.'\n",
    "desc_files=glob(\"*.csv\")\n",
    "# p=Path(desc_file)\n",
    "# itr=p.glob(\"*.csv\")"
   ]
  },
  {
   "cell_type": "code",
   "execution_count": 18,
   "metadata": {},
   "outputs": [
    {
     "name": "stdout",
     "output_type": "stream",
     "text": [
      "[*] Loading audio file paths and its corresponding labels...\n"
     ]
    },
    {
     "name": "stderr",
     "output_type": "stream",
     "text": [
      "Extracting features for test:   0%|          | 1/4639 [00:00<10:25,  7.42it/s]"
     ]
    },
    {
     "name": "stdout",
     "output_type": "stream",
     "text": [
      "sample_rate=16000\n",
      "sample_rate=16000\n",
      "sample_rate=16000\n",
      "sample_rate=16000\n"
     ]
    },
    {
     "name": "stderr",
     "output_type": "stream",
     "text": [
      "Extracting features for test:   0%|          | 8/4639 [00:00<03:12, 24.03it/s]"
     ]
    },
    {
     "name": "stdout",
     "output_type": "stream",
     "text": [
      "sample_rate=16000\n",
      "sample_rate=16000\n",
      "sample_rate=16000\n",
      "sample_rate=16000\n",
      "sample_rate=16000\n",
      "sample_rate=16000\n",
      "sample_rate=16000\n"
     ]
    },
    {
     "name": "stderr",
     "output_type": "stream",
     "text": [
      "Extracting features for test:   0%|          | 15/4639 [00:00<02:49, 27.26it/s]"
     ]
    },
    {
     "name": "stdout",
     "output_type": "stream",
     "text": [
      "sample_rate=16000\n",
      "sample_rate=16000\n",
      "sample_rate=16000\n",
      "sample_rate=16000\n",
      "sample_rate=16000\n",
      "sample_rate=16000\n"
     ]
    },
    {
     "name": "stderr",
     "output_type": "stream",
     "text": [
      "Extracting features for test:   0%|          | 21/4639 [00:00<03:00, 25.63it/s]"
     ]
    },
    {
     "name": "stdout",
     "output_type": "stream",
     "text": [
      "sample_rate=16000\n",
      "sample_rate=16000\n",
      "sample_rate=16000\n",
      "sample_rate=16000\n",
      "sample_rate=16000\n",
      "sample_rate=16000\n"
     ]
    },
    {
     "name": "stderr",
     "output_type": "stream",
     "text": [
      "Extracting features for test:   1%|          | 28/4639 [00:01<02:40, 28.74it/s]"
     ]
    },
    {
     "name": "stdout",
     "output_type": "stream",
     "text": [
      "sample_rate=16000\n",
      "sample_rate=16000\n",
      "sample_rate=16000\n",
      "sample_rate=16000\n",
      "sample_rate=16000\n",
      "sample_rate=16000\n",
      "sample_rate=16000\n"
     ]
    },
    {
     "name": "stderr",
     "output_type": "stream",
     "text": [
      "Extracting features for test:   1%|          | 36/4639 [00:01<02:24, 31.76it/s]"
     ]
    },
    {
     "name": "stdout",
     "output_type": "stream",
     "text": [
      "sample_rate=16000\n",
      "sample_rate=16000\n",
      "sample_rate=16000\n",
      "sample_rate=16000\n",
      "sample_rate=16000\n",
      "sample_rate=16000\n"
     ]
    },
    {
     "name": "stderr",
     "output_type": "stream",
     "text": [
      "Extracting features for test:   1%|          | 40/4639 [00:01<02:21, 32.59it/s]"
     ]
    },
    {
     "name": "stdout",
     "output_type": "stream",
     "text": [
      "sample_rate=16000\n",
      "sample_rate=16000\n",
      "sample_rate=16000\n",
      "sample_rate=16000\n",
      "sample_rate=16000\n",
      "sample_rate=16000\n",
      "sample_rate=16000\n",
      "sample_rate=16000\n"
     ]
    },
    {
     "name": "stderr",
     "output_type": "stream",
     "text": [
      "Extracting features for test:   1%|          | 44/4639 [00:01<02:19, 33.03it/s]"
     ]
    },
    {
     "name": "stdout",
     "output_type": "stream",
     "text": [
      "sample_rate=16000\n",
      "sample_rate=16000\n"
     ]
    },
    {
     "name": "stderr",
     "output_type": "stream",
     "text": [
      "Extracting features for test:   1%|          | 51/4639 [00:01<03:19, 23.02it/s]"
     ]
    },
    {
     "name": "stdout",
     "output_type": "stream",
     "text": [
      "sample_rate=16000\n",
      "sample_rate=16000\n",
      "sample_rate=16000\n",
      "sample_rate=16000\n",
      "sample_rate=16000\n"
     ]
    },
    {
     "name": "stderr",
     "output_type": "stream",
     "text": [
      "Extracting features for test:   1%|          | 54/4639 [00:02<03:31, 21.72it/s]"
     ]
    },
    {
     "name": "stdout",
     "output_type": "stream",
     "text": [
      "sample_rate=16000\n",
      "sample_rate=16000\n",
      "sample_rate=16000\n",
      "sample_rate=16000\n"
     ]
    },
    {
     "name": "stderr",
     "output_type": "stream",
     "text": [
      "Extracting features for test:   1%|          | 57/4639 [00:02<03:35, 21.23it/s]"
     ]
    },
    {
     "name": "stdout",
     "output_type": "stream",
     "text": [
      "sample_rate=16000\n",
      "sample_rate=16000\n",
      "sample_rate=16000\n",
      "sample_rate=16000\n",
      "sample_rate=16000\n"
     ]
    },
    {
     "name": "stderr",
     "output_type": "stream",
     "text": [
      "Extracting features for test:   1%|▏         | 63/4639 [00:02<03:24, 22.42it/s]"
     ]
    },
    {
     "name": "stdout",
     "output_type": "stream",
     "text": [
      "sample_rate=16000\n",
      "sample_rate=16000\n",
      "sample_rate=16000\n",
      "sample_rate=16000\n",
      "sample_rate=16000\n",
      "sample_rate=16000\n"
     ]
    },
    {
     "name": "stderr",
     "output_type": "stream",
     "text": [
      "Extracting features for test:   2%|▏         | 70/4639 [00:02<02:56, 25.91it/s]"
     ]
    },
    {
     "name": "stdout",
     "output_type": "stream",
     "text": [
      "sample_rate=16000\n",
      "sample_rate=16000\n",
      "sample_rate=16000\n",
      "sample_rate=16000\n",
      "sample_rate=16000\n",
      "sample_rate=16000\n",
      "sample_rate=16000\n",
      "sample_rate=16000\n"
     ]
    },
    {
     "name": "stderr",
     "output_type": "stream",
     "text": [
      "Extracting features for test:   2%|▏         | 77/4639 [00:03<02:54, 26.10it/s]"
     ]
    },
    {
     "name": "stdout",
     "output_type": "stream",
     "text": [
      "sample_rate=16000\n",
      "sample_rate=16000\n",
      "sample_rate=16000\n",
      "sample_rate=16000\n",
      "sample_rate=16000\n"
     ]
    },
    {
     "name": "stderr",
     "output_type": "stream",
     "text": [
      "Extracting features for test:   2%|▏         | 83/4639 [00:03<02:56, 25.79it/s]"
     ]
    },
    {
     "name": "stdout",
     "output_type": "stream",
     "text": [
      "sample_rate=16000\n",
      "sample_rate=16000\n",
      "sample_rate=16000\n",
      "sample_rate=16000\n",
      "sample_rate=16000\n"
     ]
    },
    {
     "name": "stderr",
     "output_type": "stream",
     "text": [
      "Extracting features for test:   2%|▏         | 86/4639 [00:03<03:20, 22.72it/s]"
     ]
    },
    {
     "name": "stdout",
     "output_type": "stream",
     "text": [
      "sample_rate=16000\n",
      "sample_rate=16000\n",
      "sample_rate=16000\n",
      "sample_rate=16000\n",
      "sample_rate=16000\n"
     ]
    },
    {
     "name": "stderr",
     "output_type": "stream",
     "text": [
      "Extracting features for test:   2%|▏         | 92/4639 [00:03<03:40, 20.63it/s]"
     ]
    },
    {
     "name": "stdout",
     "output_type": "stream",
     "text": [
      "sample_rate=16000\n",
      "sample_rate=16000\n",
      "sample_rate=16000\n",
      "sample_rate=16000\n"
     ]
    },
    {
     "name": "stderr",
     "output_type": "stream",
     "text": [
      "Extracting features for test:   2%|▏         | 95/4639 [00:03<03:45, 20.16it/s]"
     ]
    },
    {
     "name": "stdout",
     "output_type": "stream",
     "text": [
      "sample_rate=16000\n",
      "sample_rate=16000\n",
      "sample_rate=16000\n",
      "sample_rate=16000\n"
     ]
    },
    {
     "name": "stderr",
     "output_type": "stream",
     "text": [
      "Extracting features for test:   2%|▏         | 100/4639 [00:04<04:08, 18.25it/s]"
     ]
    },
    {
     "name": "stdout",
     "output_type": "stream",
     "text": [
      "sample_rate=16000\n",
      "sample_rate=16000\n",
      "sample_rate=16000\n"
     ]
    },
    {
     "name": "stderr",
     "output_type": "stream",
     "text": [
      "Extracting features for test:   2%|▏         | 102/4639 [00:04<04:39, 16.22it/s]"
     ]
    },
    {
     "name": "stdout",
     "output_type": "stream",
     "text": [
      "sample_rate=16000\n",
      "sample_rate=16000\n",
      "sample_rate=16000\n"
     ]
    },
    {
     "name": "stderr",
     "output_type": "stream",
     "text": [
      "Extracting features for test:   2%|▏         | 106/4639 [00:04<04:19, 17.47it/s]"
     ]
    },
    {
     "name": "stdout",
     "output_type": "stream",
     "text": [
      "sample_rate=16000\n",
      "sample_rate=16000\n",
      "sample_rate=16000\n",
      "sample_rate=16000\n"
     ]
    },
    {
     "name": "stderr",
     "output_type": "stream",
     "text": [
      "Extracting features for test:   2%|▏         | 110/4639 [00:04<04:38, 16.28it/s]"
     ]
    },
    {
     "name": "stdout",
     "output_type": "stream",
     "text": [
      "sample_rate=16000\n",
      "sample_rate=16000\n",
      "sample_rate=16000\n"
     ]
    },
    {
     "name": "stderr",
     "output_type": "stream",
     "text": [
      "Extracting features for test:   2%|▏         | 112/4639 [00:04<04:36, 16.39it/s]"
     ]
    },
    {
     "name": "stdout",
     "output_type": "stream",
     "text": [
      "sample_rate=16000\n",
      "sample_rate=16000\n",
      "sample_rate=16000\n"
     ]
    },
    {
     "name": "stderr",
     "output_type": "stream",
     "text": [
      "Extracting features for test:   2%|▏         | 114/4639 [00:05<06:04, 12.41it/s]"
     ]
    },
    {
     "name": "stdout",
     "output_type": "stream",
     "text": [
      "sample_rate=16000\n",
      "sample_rate=16000\n"
     ]
    },
    {
     "name": "stderr",
     "output_type": "stream",
     "text": [
      "Extracting features for test:   3%|▎         | 116/4639 [00:05<05:56, 12.67it/s]"
     ]
    },
    {
     "name": "stdout",
     "output_type": "stream",
     "text": [
      "sample_rate=16000\n",
      "sample_rate=16000\n",
      "sample_rate=16000\n"
     ]
    },
    {
     "name": "stderr",
     "output_type": "stream",
     "text": [
      "Extracting features for test:   3%|▎         | 120/4639 [00:05<05:44, 13.12it/s]"
     ]
    },
    {
     "name": "stdout",
     "output_type": "stream",
     "text": [
      "sample_rate=16000\n",
      "sample_rate=16000\n",
      "sample_rate=16000\n",
      "sample_rate=16000\n"
     ]
    },
    {
     "name": "stderr",
     "output_type": "stream",
     "text": [
      "Extracting features for test:   3%|▎         | 125/4639 [00:05<04:40, 16.07it/s]"
     ]
    },
    {
     "name": "stdout",
     "output_type": "stream",
     "text": [
      "sample_rate=16000\n",
      "sample_rate=16000\n",
      "sample_rate=16000\n",
      "sample_rate=16000\n",
      "sample_rate=48000\n"
     ]
    },
    {
     "name": "stderr",
     "output_type": "stream",
     "text": [
      "Extracting features for test:   3%|▎         | 127/4639 [00:06<05:10, 14.55it/s]"
     ]
    },
    {
     "name": "stdout",
     "output_type": "stream",
     "text": [
      "sample_rate=48000\n",
      "sample_rate=48000\n"
     ]
    },
    {
     "name": "stderr",
     "output_type": "stream",
     "text": [
      "Extracting features for test:   3%|▎         | 129/4639 [00:06<06:23, 11.75it/s]"
     ]
    },
    {
     "name": "stdout",
     "output_type": "stream",
     "text": [
      "sample_rate=48000\n",
      "sample_rate=48000\n"
     ]
    },
    {
     "name": "stderr",
     "output_type": "stream",
     "text": [
      "Extracting features for test:   3%|▎         | 131/4639 [00:06<07:09, 10.50it/s]"
     ]
    },
    {
     "name": "stdout",
     "output_type": "stream",
     "text": [
      "sample_rate=48000\n",
      "sample_rate=48000\n"
     ]
    },
    {
     "name": "stderr",
     "output_type": "stream",
     "text": [
      "Extracting features for test:   3%|▎         | 133/4639 [00:06<08:29,  8.85it/s]"
     ]
    },
    {
     "name": "stdout",
     "output_type": "stream",
     "text": [
      "sample_rate=48000\n",
      "sample_rate=48000\n"
     ]
    },
    {
     "name": "stderr",
     "output_type": "stream",
     "text": [
      "Extracting features for test:   3%|▎         | 136/4639 [00:07<09:36,  7.81it/s]"
     ]
    },
    {
     "name": "stdout",
     "output_type": "stream",
     "text": [
      "sample_rate=48000\n"
     ]
    },
    {
     "name": "stderr",
     "output_type": "stream",
     "text": [
      "Extracting features for test:   3%|▎         | 137/4639 [00:07<10:13,  7.34it/s]"
     ]
    },
    {
     "name": "stdout",
     "output_type": "stream",
     "text": [
      "sample_rate=48000\n",
      "sample_rate=48000\n"
     ]
    },
    {
     "name": "stderr",
     "output_type": "stream",
     "text": [
      "Extracting features for test:   3%|▎         | 139/4639 [00:07<11:20,  6.61it/s]"
     ]
    },
    {
     "name": "stdout",
     "output_type": "stream",
     "text": [
      "sample_rate=48000\n",
      "sample_rate=48000\n"
     ]
    },
    {
     "name": "stderr",
     "output_type": "stream",
     "text": [
      "Extracting features for test:   3%|▎         | 141/4639 [00:08<10:32,  7.11it/s]"
     ]
    },
    {
     "name": "stdout",
     "output_type": "stream",
     "text": [
      "sample_rate=48000\n",
      "sample_rate=48000\n"
     ]
    },
    {
     "name": "stderr",
     "output_type": "stream",
     "text": [
      "Extracting features for test:   3%|▎         | 143/4639 [00:08<09:46,  7.66it/s]"
     ]
    },
    {
     "name": "stdout",
     "output_type": "stream",
     "text": [
      "sample_rate=48000\n",
      "sample_rate=48000\n"
     ]
    },
    {
     "name": "stderr",
     "output_type": "stream",
     "text": [
      "Extracting features for test:   3%|▎         | 145/4639 [00:08<09:05,  8.23it/s]"
     ]
    },
    {
     "name": "stdout",
     "output_type": "stream",
     "text": [
      "sample_rate=48000\n",
      "sample_rate=48000\n"
     ]
    },
    {
     "name": "stderr",
     "output_type": "stream",
     "text": [
      "Extracting features for test:   3%|▎         | 147/4639 [00:08<09:12,  8.13it/s]"
     ]
    },
    {
     "name": "stdout",
     "output_type": "stream",
     "text": [
      "sample_rate=48000\n",
      "sample_rate=48000\n"
     ]
    },
    {
     "name": "stderr",
     "output_type": "stream",
     "text": [
      "Extracting features for test:   3%|▎         | 149/4639 [00:09<08:59,  8.32it/s]"
     ]
    },
    {
     "name": "stdout",
     "output_type": "stream",
     "text": [
      "sample_rate=48000\n",
      "sample_rate=48000\n"
     ]
    },
    {
     "name": "stderr",
     "output_type": "stream",
     "text": [
      "Extracting features for test:   3%|▎         | 151/4639 [00:09<09:13,  8.11it/s]"
     ]
    },
    {
     "name": "stdout",
     "output_type": "stream",
     "text": [
      "sample_rate=48000\n",
      "sample_rate=48000\n"
     ]
    },
    {
     "name": "stderr",
     "output_type": "stream",
     "text": [
      "Extracting features for test:   3%|▎         | 153/4639 [00:09<09:44,  7.67it/s]"
     ]
    },
    {
     "name": "stdout",
     "output_type": "stream",
     "text": [
      "sample_rate=48000\n",
      "sample_rate=48000\n"
     ]
    },
    {
     "name": "stderr",
     "output_type": "stream",
     "text": [
      "Extracting features for test:   3%|▎         | 155/4639 [00:09<10:08,  7.37it/s]"
     ]
    },
    {
     "name": "stdout",
     "output_type": "stream",
     "text": [
      "sample_rate=48000\n",
      "sample_rate=48000\n"
     ]
    },
    {
     "name": "stderr",
     "output_type": "stream",
     "text": [
      "Extracting features for test:   3%|▎         | 157/4639 [00:10<10:21,  7.21it/s]"
     ]
    },
    {
     "name": "stdout",
     "output_type": "stream",
     "text": [
      "sample_rate=48000\n",
      "sample_rate=48000\n"
     ]
    },
    {
     "name": "stderr",
     "output_type": "stream",
     "text": [
      "Extracting features for test:   3%|▎         | 159/4639 [00:10<10:15,  7.28it/s]"
     ]
    },
    {
     "name": "stdout",
     "output_type": "stream",
     "text": [
      "sample_rate=48000\n",
      "sample_rate=48000\n"
     ]
    },
    {
     "name": "stderr",
     "output_type": "stream",
     "text": [
      "Extracting features for test:   3%|▎         | 161/4639 [00:10<10:01,  7.44it/s]"
     ]
    },
    {
     "name": "stdout",
     "output_type": "stream",
     "text": [
      "sample_rate=48000\n",
      "sample_rate=48000\n"
     ]
    },
    {
     "name": "stderr",
     "output_type": "stream",
     "text": [
      "Extracting features for test:   4%|▎         | 163/4639 [00:10<09:33,  7.80it/s]"
     ]
    },
    {
     "name": "stdout",
     "output_type": "stream",
     "text": [
      "sample_rate=48000\n",
      "sample_rate=48000\n"
     ]
    },
    {
     "name": "stderr",
     "output_type": "stream",
     "text": [
      "Extracting features for test:   4%|▎         | 165/4639 [00:11<11:53,  6.27it/s]"
     ]
    },
    {
     "name": "stdout",
     "output_type": "stream",
     "text": [
      "sample_rate=48000\n",
      "sample_rate=48000\n"
     ]
    },
    {
     "name": "stderr",
     "output_type": "stream",
     "text": [
      "Extracting features for test:   4%|▎         | 167/4639 [00:11<10:55,  6.82it/s]"
     ]
    },
    {
     "name": "stdout",
     "output_type": "stream",
     "text": [
      "sample_rate=48000\n",
      "sample_rate=48000\n"
     ]
    },
    {
     "name": "stderr",
     "output_type": "stream",
     "text": [
      "Extracting features for test:   4%|▎         | 169/4639 [00:11<09:21,  7.95it/s]"
     ]
    },
    {
     "name": "stdout",
     "output_type": "stream",
     "text": [
      "sample_rate=48000\n",
      "sample_rate=48000\n"
     ]
    },
    {
     "name": "stderr",
     "output_type": "stream",
     "text": [
      "Extracting features for test:   4%|▎         | 171/4639 [00:12<09:34,  7.78it/s]"
     ]
    },
    {
     "name": "stdout",
     "output_type": "stream",
     "text": [
      "sample_rate=48000\n",
      "sample_rate=48000\n"
     ]
    },
    {
     "name": "stderr",
     "output_type": "stream",
     "text": [
      "Extracting features for test:   4%|▎         | 173/4639 [00:12<08:50,  8.42it/s]"
     ]
    },
    {
     "name": "stdout",
     "output_type": "stream",
     "text": [
      "sample_rate=48000\n",
      "sample_rate=48000\n"
     ]
    },
    {
     "name": "stderr",
     "output_type": "stream",
     "text": [
      "Extracting features for test:   4%|▍         | 175/4639 [00:12<09:27,  7.86it/s]"
     ]
    },
    {
     "name": "stdout",
     "output_type": "stream",
     "text": [
      "sample_rate=48000\n",
      "sample_rate=48000\n"
     ]
    },
    {
     "name": "stderr",
     "output_type": "stream",
     "text": [
      "Extracting features for test:   4%|▍         | 177/4639 [00:12<09:52,  7.53it/s]"
     ]
    },
    {
     "name": "stdout",
     "output_type": "stream",
     "text": [
      "sample_rate=48000\n",
      "sample_rate=48000\n"
     ]
    },
    {
     "name": "stderr",
     "output_type": "stream",
     "text": [
      "Extracting features for test:   4%|▍         | 179/4639 [00:13<10:02,  7.40it/s]"
     ]
    },
    {
     "name": "stdout",
     "output_type": "stream",
     "text": [
      "sample_rate=48000\n",
      "sample_rate=48000\n"
     ]
    },
    {
     "name": "stderr",
     "output_type": "stream",
     "text": [
      "Extracting features for test:   4%|▍         | 181/4639 [00:13<10:04,  7.37it/s]"
     ]
    },
    {
     "name": "stdout",
     "output_type": "stream",
     "text": [
      "sample_rate=48000\n",
      "sample_rate=48000\n"
     ]
    },
    {
     "name": "stderr",
     "output_type": "stream",
     "text": [
      "Extracting features for test:   4%|▍         | 183/4639 [00:13<09:41,  7.67it/s]"
     ]
    },
    {
     "name": "stdout",
     "output_type": "stream",
     "text": [
      "sample_rate=48000\n",
      "sample_rate=48000\n"
     ]
    },
    {
     "name": "stderr",
     "output_type": "stream",
     "text": [
      "Extracting features for test:   4%|▍         | 186/4639 [00:13<08:28,  8.76it/s]"
     ]
    },
    {
     "name": "stdout",
     "output_type": "stream",
     "text": [
      "sample_rate=48000\n",
      "sample_rate=48000\n"
     ]
    },
    {
     "name": "stderr",
     "output_type": "stream",
     "text": [
      "Extracting features for test:   4%|▍         | 187/4639 [00:14<09:09,  8.10it/s]"
     ]
    },
    {
     "name": "stdout",
     "output_type": "stream",
     "text": [
      "sample_rate=48000\n",
      "sample_rate=48000\n"
     ]
    },
    {
     "name": "stderr",
     "output_type": "stream",
     "text": [
      "Extracting features for test:   4%|▍         | 189/4639 [00:14<05:36, 13.23it/s]\n"
     ]
    },
    {
     "name": "stdout",
     "output_type": "stream",
     "text": [
      "sample_rate=48000\n",
      "sample_rate=48000\n"
     ]
    },
    {
     "ename": "KeyboardInterrupt",
     "evalue": "",
     "output_type": "error",
     "traceback": [
      "\u001b[1;31m---------------------------------------------------------------------------\u001b[0m",
      "\u001b[1;31mKeyboardInterrupt\u001b[0m                         Traceback (most recent call last)",
      "Cell \u001b[1;32mIn[18], line 1\u001b[0m\n\u001b[1;32m----> 1\u001b[0m ae\u001b[39m.\u001b[39;49mload_metadata_from_desc_file(desc_files\u001b[39m=\u001b[39;49mdesc_files,partition\u001b[39m=\u001b[39;49m\u001b[39m\"\u001b[39;49m\u001b[39mtest\u001b[39;49m\u001b[39m\"\u001b[39;49m)\n",
      "File \u001b[1;32md:\\repos\\CCSER\\emotion-recognition-using-speech\\data_extractor.py:84\u001b[0m, in \u001b[0;36mAudioExtractor.load_metadata_from_desc_file\u001b[1;34m(self, desc_files, partition)\u001b[0m\n\u001b[0;32m     82\u001b[0m append \u001b[39m=\u001b[39m features\u001b[39m.\u001b[39mappend\n\u001b[0;32m     83\u001b[0m \u001b[39mfor\u001b[39;00m audio_file \u001b[39min\u001b[39;00m tqdm\u001b[39m.\u001b[39mtqdm(audio_paths, \u001b[39mf\u001b[39m\u001b[39m\"\u001b[39m\u001b[39mExtracting features for \u001b[39m\u001b[39m{\u001b[39;00mpartition\u001b[39m}\u001b[39;00m\u001b[39m\"\u001b[39m):\n\u001b[1;32m---> 84\u001b[0m     feature \u001b[39m=\u001b[39m extract_feature(audio_file, \u001b[39m*\u001b[39m\u001b[39m*\u001b[39m\u001b[39mself\u001b[39m\u001b[39m.\u001b[39maudio_config)\n\u001b[0;32m     85\u001b[0m     \u001b[39mif\u001b[39;00m \u001b[39mself\u001b[39m\u001b[39m.\u001b[39minput_dimension \u001b[39mis\u001b[39;00m \u001b[39mNone\u001b[39;00m:\n\u001b[0;32m     86\u001b[0m         \u001b[39mself\u001b[39m\u001b[39m.\u001b[39minput_dimension \u001b[39m=\u001b[39m feature\u001b[39m.\u001b[39mshape[\u001b[39m0\u001b[39m]\n",
      "File \u001b[1;32md:\\repos\\CCSER\\emotion-recognition-using-speech\\utils_improving.py:127\u001b[0m, in \u001b[0;36mextract_feature\u001b[1;34m(file_name, **kwargs)\u001b[0m\n\u001b[0;32m    125\u001b[0m \u001b[39mif\u001b[39;00m chroma \u001b[39mor\u001b[39;00m contrast:\n\u001b[0;32m    126\u001b[0m     stft_raw\u001b[39m=\u001b[39mlibrosa\u001b[39m.\u001b[39mstft(X)\n\u001b[1;32m--> 127\u001b[0m     stft \u001b[39m=\u001b[39m np\u001b[39m.\u001b[39;49mabs(stft_raw)\n\u001b[0;32m    128\u001b[0m     \u001b[39m# print(f'{stft_raw=},{stft_raw.shape=}')\u001b[39;00m\n\u001b[0;32m    129\u001b[0m     \u001b[39m# print(f'{stft=},{stft.shape=}')\u001b[39;00m\n\u001b[0;32m    130\u001b[0m     \u001b[39m# shape=(1025, 60)\u001b[39;00m\n\u001b[0;32m    131\u001b[0m     \u001b[39m# print(f'{stft_raw.shape=},{stft.shape=}')\u001b[39;00m\n\u001b[0;32m    132\u001b[0m \u001b[39m# 建立一个空数组来存储需要提取的特征\u001b[39;00m\n\u001b[0;32m    133\u001b[0m result \u001b[39m=\u001b[39m np\u001b[39m.\u001b[39marray([])\n",
      "\u001b[1;31mKeyboardInterrupt\u001b[0m: "
     ]
    }
   ],
   "source": [
    "\n",
    "ae.load_metadata_from_desc_file(desc_files=desc_files,partition=\"test\")"
   ]
  }
 ],
 "metadata": {
  "kernelspec": {
   "display_name": "tf2.10",
   "language": "python",
   "name": "python3"
  },
  "language_info": {
   "codemirror_mode": {
    "name": "ipython",
    "version": 3
   },
   "file_extension": ".py",
   "mimetype": "text/x-python",
   "name": "python",
   "nbconvert_exporter": "python",
   "pygments_lexer": "ipython3",
   "version": "3.9.16"
  },
  "orig_nbformat": 4
 },
 "nbformat": 4,
 "nbformat_minor": 2
}
