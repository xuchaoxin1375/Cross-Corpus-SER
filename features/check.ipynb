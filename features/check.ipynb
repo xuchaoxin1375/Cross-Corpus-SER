{
 "cells": [
  {
   "cell_type": "code",
   "execution_count": 23,
   "metadata": {},
   "outputs": [],
   "source": [
    "import numpy as np\n",
    "# feature=np.load(r\"D:\\repos\\CCSER\\SER\\features\\emodb_chroma-mel-mfcc_ANOS_107.npy\")\n",
    "feature=np.load(r\"emodb_chroma-mel-mfcc_ANOS_107_@pca_params={n_components=35,svd_solver=auto}.npy\")"
   ]
  },
  {
   "cell_type": "code",
   "execution_count": 24,
   "metadata": {},
   "outputs": [
    {
     "data": {
      "text/plain": [
       "(107, 35)"
      ]
     },
     "execution_count": 24,
     "metadata": {},
     "output_type": "execute_result"
    }
   ],
   "source": [
    "#第shape[1]就是pca降维后的维数\n",
    "feature.shape"
   ]
  },
  {
   "cell_type": "code",
   "execution_count": 22,
   "metadata": {},
   "outputs": [
    {
     "name": "stdout",
     "output_type": "stream",
     "text": [
      "emodb_chroma-mel-mfcc_ANOS_107_@pca_params={n_components=35,svd_solver=auto}.npy\n",
      "emodb_chroma-mel-mfcc_ANOS_107_@pca_params={n_components=None,svd_solver=auto}.npy\n",
      "emodb_chroma-mel-mfcc_ANOS_107_@pca_params={n_components=mle,svd_solver=auto}.npy\n",
      "emodb_chroma-mel-mfcc_ANOS_428_@pca_params={n_components=35,svd_solver=auto}.npy\n",
      "emodb_chroma-mel-mfcc_ANOS_428_@pca_params={n_components=None,svd_solver=auto}.npy\n",
      "emodb_chroma-mel-mfcc_ANOS_428_@pca_params={n_components=mle,svd_solver=auto}.npy\n",
      "emodb_chroma-mel-mfcc_HNS_169_@pca={n_components=39}.npy\n",
      "emodb_mfcc_ANOS_107_@pca={n_components=30}.npy\n",
      "emodb_mfcc_ANOS_107_@pca={n_components=mle}.npy\n",
      "emodb_mfcc_ANOS_107_@pca_params={n_components=25,svd_solver=auto}.npy\n",
      "emodb_mfcc_ANOS_107_@pca_params={n_components=31,svd_solver=auto}.npy\n",
      "emodb_mfcc_ANOS_107_@pca_params={n_components=35,svd_solver=auto}.npy\n",
      "emodb_mfcc_ANOS_107_@pca_params={n_components=None,svd_solver=auto}.npy\n",
      "emodb_mfcc_ANOS_428_@pca={n_components=30}.npy\n",
      "emodb_mfcc_ANOS_428_@pca={n_components=mle}.npy\n",
      "emodb_mfcc_ANOS_428_@pca_params={n_components=25,svd_solver=auto}.npy\n",
      "emodb_mfcc_ANOS_428_@pca_params={n_components=31,svd_solver=auto}.npy\n",
      "emodb_mfcc_ANOS_428_@pca_params={n_components=35,svd_solver=auto}.npy\n",
      "emodb_mfcc_ANOS_428_@pca_params={n_components=None,svd_solver=auto}.npy\n",
      "emodb_mfcc_AS_151_@pca={n_components=39}.npy\n",
      "emodb_mfcc_AS_38_@pca={n_components=39}.npy\n"
     ]
    }
   ],
   "source": [
    "!ls *pca*"
   ]
  },
  {
   "cell_type": "code",
   "execution_count": 17,
   "metadata": {},
   "outputs": [
    {
     "data": {
      "text/plain": [
       "((107, 180), (107, 41))"
      ]
     },
     "execution_count": 17,
     "metadata": {},
     "output_type": "execute_result"
    }
   ],
   "source": [
    "from sklearn.datasets import load_digits\n",
    "from sklearn.decomposition import PCA\n",
    "from sklearn.model_selection import train_test_split\n",
    "from sklearn.neighbors import KNeighborsClassifier\n",
    "\n",
    "pca=PCA(n_components=41,svd_solver='auto')\n",
    "pca.fit(feature)\n",
    "feature_pca =pca.transform(feature)\n",
    "feature.shape,feature_pca.shape"
   ]
  },
  {
   "cell_type": "code",
   "execution_count": 4,
   "metadata": {},
   "outputs": [
    {
     "name": "stdout",
     "output_type": "stream",
     "text": [
      "a\n",
      "std_scaler\n",
      "pca\n"
     ]
    }
   ],
   "source": [
    "d={\"a\":123,\"std_scaler\":True,\"pca\":{\"n_components\":35,\"svd_solver\":\"auto\"}}\n",
    "for x in d.keys():\n",
    "    print(x)"
   ]
  },
  {
   "cell_type": "code",
   "execution_count": 7,
   "metadata": {},
   "outputs": [
    {
     "data": {
      "text/plain": [
       "['a', 'std_scaler', 'pca']"
      ]
     },
     "execution_count": 7,
     "metadata": {},
     "output_type": "execute_result"
    }
   ],
   "source": [
    "keys=[x for x in d.keys()]\n",
    "keys"
   ]
  },
  {
   "cell_type": "code",
   "execution_count": 12,
   "metadata": {},
   "outputs": [
    {
     "data": {
      "text/plain": [
       "True"
      ]
     },
     "execution_count": 12,
     "metadata": {},
     "output_type": "execute_result"
    }
   ],
   "source": [
    "set([\"a\",'pca']) <= set(keys)"
   ]
  },
  {
   "cell_type": "code",
   "execution_count": 13,
   "metadata": {},
   "outputs": [
    {
     "data": {
      "text/plain": [
       "True"
      ]
     },
     "execution_count": 13,
     "metadata": {},
     "output_type": "execute_result"
    }
   ],
   "source": [
    "False ==False"
   ]
  },
  {
   "cell_type": "code",
   "execution_count": 14,
   "metadata": {},
   "outputs": [
    {
     "data": {
      "text/plain": [
       "True"
      ]
     },
     "execution_count": 14,
     "metadata": {},
     "output_type": "execute_result"
    }
   ],
   "source": [
    "\"a\"!=False"
   ]
  },
  {
   "cell_type": "code",
   "execution_count": null,
   "metadata": {},
   "outputs": [],
   "source": []
  }
 ],
 "metadata": {
  "kernelspec": {
   "display_name": "tf2.10",
   "language": "python",
   "name": "python3"
  },
  "language_info": {
   "codemirror_mode": {
    "name": "ipython",
    "version": 3
   },
   "file_extension": ".py",
   "mimetype": "text/x-python",
   "name": "python",
   "nbconvert_exporter": "python",
   "pygments_lexer": "ipython3",
   "version": "3.9.16"
  },
  "orig_nbformat": 4
 },
 "nbformat": 4,
 "nbformat_minor": 2
}
