{
 "cells": [
  {
   "cell_type": "code",
   "execution_count": 1,
   "metadata": {},
   "outputs": [
    {
     "name": "stdout",
     "output_type": "stream",
     "text": [
      "[]\n"
     ]
    }
   ],
   "source": [
    "from notebook import notebookapp\n",
    "servers = list(notebookapp.list_running_servers())\n",
    "print(servers)"
   ]
  },
  {
   "cell_type": "code",
   "execution_count": 1,
   "metadata": {},
   "outputs": [
    {
     "data": {
      "text/plain": [
       "array([[-1.,  1.],\n",
       "       [ 1., -1.]])"
      ]
     },
     "execution_count": 1,
     "metadata": {},
     "output_type": "execute_result"
    }
   ],
   "source": [
    "from sklearn.preprocessing import StandardScaler\n",
    "X = [[0, 15],\n",
    "     [1, -10]]\n",
    "# scale data according to computed scaling values\n",
    "StandardScaler().fit(X).transform(X)"
   ]
  },
  {
   "cell_type": "code",
   "execution_count": 109,
   "metadata": {},
   "outputs": [
    {
     "data": {
      "text/plain": [
       "(StandardScaler(), sklearn.preprocessing._data.StandardScaler)"
      ]
     },
     "execution_count": 109,
     "metadata": {},
     "output_type": "execute_result"
    }
   ],
   "source": [
    "ssfit=StandardScaler().fit(X)\n",
    "ssfit,type(ssfit)"
   ]
  },
  {
   "cell_type": "code",
   "execution_count": 113,
   "metadata": {},
   "outputs": [
    {
     "name": "stdout",
     "output_type": "stream",
     "text": [
      "_parameter_constraints = {'copy': ['boolean'], 'with_mean': ['boolean'], 'with_std': ['boolean']}\n",
      "_sklearn_auto_wrap_output_keys = {'transform'}\n",
      "copy = True\n",
      "mean_ = [0.5 2.5]\n",
      "n_features_in_ = 2\n",
      "n_samples_seen_ = 2\n",
      "scale_ = [ 0.5 12.5]\n",
      "var_ = [  0.25 156.25]\n",
      "with_mean = True\n",
      "with_std = True\n"
     ]
    }
   ],
   "source": [
    "obj=ssfit\n",
    "attrs=[attr for attr in dir(obj) if not callable(getattr(obj, attr)) and not attr.startswith(\"__\")]\n",
    "for attr in attrs:\n",
    "    print(attr,\"=\",getattr(obj, attr))"
   ]
  },
  {
   "cell_type": "code",
   "execution_count": 2,
   "metadata": {},
   "outputs": [
    {
     "data": {
      "text/plain": [
       "sklearn.preprocessing._data.StandardScaler"
      ]
     },
     "execution_count": 2,
     "metadata": {},
     "output_type": "execute_result"
    }
   ],
   "source": [
    "type(StandardScaler())"
   ]
  },
  {
   "cell_type": "code",
   "execution_count": 5,
   "metadata": {},
   "outputs": [
    {
     "data": {
      "text/plain": [
       "(StandardScaler(), sklearn.preprocessing._data.StandardScaler)"
      ]
     },
     "execution_count": 5,
     "metadata": {},
     "output_type": "execute_result"
    }
   ],
   "source": [
    "clf=StandardScaler().fit(X)\n",
    "clf,type(clf)"
   ]
  },
  {
   "cell_type": "code",
   "execution_count": 69,
   "metadata": {},
   "outputs": [
    {
     "data": {
      "text/plain": [
       "array([[-1.,  1.],\n",
       "       [ 1., -1.]])"
      ]
     },
     "execution_count": 69,
     "metadata": {},
     "output_type": "execute_result"
    }
   ],
   "source": [
    "from sklearn.preprocessing import StandardScaler\n",
    "X = [[0, 15],\n",
    "     [1, -10]]\n",
    "# scale data according to computed scaling values\n",
    "StandardScaler().fit(X).transform(X)"
   ]
  },
  {
   "cell_type": "code",
   "execution_count": 21,
   "metadata": {},
   "outputs": [
    {
     "name": "stdout",
     "output_type": "stream",
     "text": [
      "StandardScaler()\n",
      "scaler.mean_=array([0.5, 2. ])\n",
      "np.mean(data,axis=0)=array([0.5, 2. ])\n",
      "scaler.transform(data)\n",
      "=[[-1.         -0.68599434]\n",
      " [-1.         -0.68599434]\n",
      " [ 1.         -0.34299717]\n",
      " [ 1.          1.71498585]]\n",
      "[[3. 0.]]\n"
     ]
    }
   ],
   "source": [
    "from sklearn.preprocessing import StandardScaler\n",
    "import numpy as np\n",
    "data = [[0, 0], [0, 0], [1, 1], [1, 7]]\n",
    "scaler = StandardScaler()\n",
    "print(scaler.fit(data))\n",
    "\n",
    "print(f'{scaler.mean_=}')\n",
    "print(f'{np.mean(data,axis=0)=}')\n",
    "\n",
    "print(f'scaler.transform(data)\\n={scaler.transform(data)}')\n",
    "\n",
    "print(scaler.transform([[2, 2]]))"
   ]
  },
  {
   "cell_type": "code",
   "execution_count": 125,
   "metadata": {},
   "outputs": [
    {
     "data": {
      "text/plain": [
       "(array([0.5       , 2.91547595]),\n",
       " array([[-1.        , -0.68599434],\n",
       "        [-1.        , -0.68599434],\n",
       "        [ 1.        , -0.34299717],\n",
       "        [ 1.        ,  1.71498585]]))"
      ]
     },
     "execution_count": 125,
     "metadata": {},
     "output_type": "execute_result"
    }
   ],
   "source": [
    "import numpy as np\n",
    "data1=np.array(data)\n",
    "u=data1.mean(axis=0)\n",
    "xu=data1-u\n",
    "s=data1.std(axis=0)\n",
    "s,xu/s"
   ]
  },
  {
   "cell_type": "code",
   "execution_count": 128,
   "metadata": {},
   "outputs": [
    {
     "data": {
      "text/plain": [
       "array([3., 0.])"
      ]
     },
     "execution_count": 128,
     "metadata": {},
     "output_type": "execute_result"
    }
   ],
   "source": [
    "c=np.array([2,2])-u\n",
    "c/s"
   ]
  },
  {
   "cell_type": "code",
   "execution_count": 129,
   "metadata": {},
   "outputs": [
    {
     "name": "stdout",
     "output_type": "stream",
     "text": [
      "StandardScaler()\n",
      "scaler.mean_=array([0.5, 0.5])\n",
      "np.mean(data,axis=0)=array([0.5, 0.5])\n",
      "scaler.transform(data)\n",
      "=[[-1. -1.]\n",
      " [-1. -1.]\n",
      " [ 1.  1.]\n",
      " [ 1.  1.]]\n",
      "[[3. 3.]]\n"
     ]
    }
   ],
   "source": [
    "from sklearn.preprocessing import StandardScaler\n",
    "import numpy as np\n",
    "data = [[0, 0], [0, 0], [1, 1], [1, 1]]\n",
    "scaler = StandardScaler()\n",
    "print(scaler.fit(data))\n",
    "\n",
    "print(f'{scaler.mean_=}')\n",
    "print(f'{np.mean(data,axis=0)=}')\n",
    "\n",
    "print(f'scaler.transform(data)\\n={scaler.transform(data)}')\n",
    "\n",
    "print(scaler.transform([[2, 2]]))"
   ]
  },
  {
   "cell_type": "code",
   "execution_count": 136,
   "metadata": {},
   "outputs": [
    {
     "data": {
      "text/plain": [
       "array([3., 3.])"
      ]
     },
     "execution_count": 136,
     "metadata": {},
     "output_type": "execute_result"
    }
   ],
   "source": [
    "data=[[0, 0], [0, 0], [1, 1], [1, 1]]\n",
    "data2=np.array(data)\n",
    "u=data2.mean(axis=0)\n",
    "s=data2.std(axis=0)\n",
    "c=np.array([2,2])-u\n",
    "c/s"
   ]
  },
  {
   "cell_type": "code",
   "execution_count": 137,
   "metadata": {},
   "outputs": [
    {
     "data": {
      "text/plain": [
       "0.9736842105263158"
      ]
     },
     "execution_count": 137,
     "metadata": {},
     "output_type": "execute_result"
    }
   ],
   "source": [
    "from sklearn.preprocessing import StandardScaler\n",
    "from sklearn.linear_model import LogisticRegression\n",
    "from sklearn.pipeline import make_pipeline\n",
    "from sklearn.datasets import load_iris\n",
    "from sklearn.model_selection import train_test_split\n",
    "from sklearn.metrics import accuracy_score\n",
    "\n",
    "# create a pipeline object\n",
    "pipe = make_pipeline(\n",
    "    StandardScaler(),\n",
    "    LogisticRegression()\n",
    ")\n",
    "\n",
    "# load the iris dataset and split it into train and test sets\n",
    "X, y = load_iris(return_X_y=True)\n",
    "X_train, X_test, y_train, y_test = train_test_split(X, y, random_state=0)\n",
    "\n",
    "# fit the whole pipeline\n",
    "pipe.fit(X_train, y_train)\n",
    "\n",
    "\n",
    "# we can now use it like any other estimator\n",
    "accuracy_score(pipe.predict(X_test), y_test)"
   ]
  },
  {
   "cell_type": "code",
   "execution_count": 1,
   "metadata": {},
   "outputs": [
    {
     "name": "stdout",
     "output_type": "stream",
     "text": [
      "Shape of dataset: (1000, 5)\n",
      "Shape of target variable: (1000,)\n"
     ]
    }
   ],
   "source": [
    "from sklearn.datasets import make_regression\n",
    "\n",
    "# generate a random regression dataset\n",
    "X, y = make_regression(n_samples=1000, n_features=5, n_informative=2, noise=0.5, random_state=42)\n",
    "\n",
    "# print the shape of the dataset and target variable\n",
    "print(\"Shape of dataset:\", X.shape)\n",
    "print(\"Shape of target variable:\", y.shape)"
   ]
  },
  {
   "cell_type": "code",
   "execution_count": 2,
   "metadata": {},
   "outputs": [
    {
     "data": {
      "text/plain": [
       "(array([[-2.12722742,  0.84677078, -0.60282066,  0.43226295, -0.0990943 ],\n",
       "        [ 1.13556564,  0.57089051,  0.65139125, -0.31526924,  0.95400176],\n",
       "        [ 1.25313282,  0.24020584,  0.96956903,  0.3268554 ,  0.78991972],\n",
       "        ...,\n",
       "        [ 1.12778025, -0.06040373, -0.74692329,  0.99016624,  0.08611087],\n",
       "        [-0.35744542, -0.19003904,  1.37284847, -2.21186191, -0.18039168],\n",
       "        [-0.82819627,  0.8580142 ,  0.14506375,  0.79317569, -2.01848786]]),\n",
       " array([-2.65279027e+01,  3.15868329e+01,  2.73433337e+01, -1.21150863e+01,\n",
       "         1.78379218e+01, -3.45005608e+01,  7.77468286e+00,  6.74098745e+00,\n",
       "        -1.97282915e+01,  1.46903021e+00, -1.09959303e+00,  2.04674306e+00,\n",
       "        -5.42457361e+01,  5.93243179e+01, -1.03375204e+01,  1.06458060e+01,\n",
       "         3.42273004e+01, -9.71370190e+00,  1.33462503e+01, -1.96139267e+01,\n",
       "        -7.21952966e+01,  8.81470691e+00, -1.19002728e+01, -6.25813030e+00,\n",
       "         2.36268157e+01, -6.70927729e+00,  1.08976940e+01,  1.95300158e+01,\n",
       "        -2.23899160e+01, -3.91052218e+01,  2.31981696e+01,  8.30669700e+00,\n",
       "         2.35787920e+01, -4.50201269e+01,  2.43792716e+00, -3.81251946e+01,\n",
       "        -2.58053877e+01,  2.14099704e+01, -1.94077908e+01,  2.71985465e+01,\n",
       "         3.46779748e+01,  7.04620506e+00,  4.79369879e+01, -3.61741392e+01,\n",
       "         5.53478401e+01, -3.31744268e+01,  5.12525273e+01, -3.22565148e+00,\n",
       "        -2.36159749e+01, -4.18949836e+01,  2.07022606e+01,  2.04299692e+00,\n",
       "        -5.65038198e+00, -2.34956294e+00, -1.48799666e+01, -5.43386500e+00,\n",
       "        -2.65543169e+01,  2.88940757e+01, -6.97195168e+00,  1.06758818e+01,\n",
       "        -1.93648803e+01, -2.21489736e+00, -1.39224276e+01, -5.58859173e+00,\n",
       "        -3.07777502e+01, -1.28853583e+01, -3.30189712e+01,  1.03067890e+00,\n",
       "        -5.81072211e+01, -1.55042789e+01,  1.75012271e+00,  2.25511314e+01,\n",
       "         4.15347688e+01, -3.05317251e+01,  2.42881259e+01,  5.58121917e+00,\n",
       "         1.42332522e-01, -1.53173975e+01, -5.36164292e+01,  3.23667608e+01,\n",
       "        -2.15028187e+00, -1.94232976e+01, -3.97453780e+01,  4.91807333e+00,\n",
       "        -3.57733278e+01,  4.06355222e+00, -5.09999946e+00,  2.25598073e+01,\n",
       "         2.10804664e+01,  6.34699368e+01, -7.63023831e+00, -3.23407357e+01,\n",
       "        -1.72574124e+01,  6.14432439e+00,  7.80939515e+00,  4.21698634e+00,\n",
       "         5.33915157e+01,  2.15931049e+01,  8.64921427e+00,  1.27092203e+01,\n",
       "         1.96676019e+01, -5.00336898e+01, -2.33590812e+01,  7.56842995e+00,\n",
       "         1.43392929e+01, -1.42172558e+01,  1.16654703e+01, -3.57005773e+00,\n",
       "        -4.90533542e+00,  1.37202514e+01,  1.24373037e+01, -2.52397779e+01,\n",
       "        -8.15480583e+00,  6.15906505e+00,  1.12210456e+01,  1.77997228e+01,\n",
       "         1.57807986e+01, -1.97513559e+01,  6.98976193e+00, -6.26816168e+00,\n",
       "        -1.12158974e+01, -6.12543650e+01, -2.48634049e+01, -3.56442784e+01,\n",
       "        -9.13395934e+00, -1.23231449e+01, -2.70024530e+00,  2.03894274e+01,\n",
       "        -7.63798394e+00,  4.43848534e+01, -7.98771889e+00, -3.59361287e+01,\n",
       "         3.67785975e+01,  1.34987793e+01,  1.25490275e+00, -3.18378251e+01,\n",
       "         2.88664610e+01, -1.19536378e+00,  6.65489508e+00,  5.48904728e+01,\n",
       "         1.13089661e+01,  1.94332814e+01,  1.21122613e+01,  5.44401940e+01,\n",
       "         3.28257086e+01,  1.32886336e+01,  1.82146699e+01,  3.45395177e-01,\n",
       "         1.95078610e+01,  2.20183485e+01, -2.49279958e+01, -1.15494679e+01,\n",
       "         2.35666871e+00, -3.85264460e+01, -6.42826275e+01,  9.01927295e+00,\n",
       "        -1.40201356e+01, -1.85738076e+00, -4.03636652e+01, -4.04906730e+01,\n",
       "        -4.14046273e+00, -4.94244415e+00, -1.44728132e+01, -2.23928873e+01,\n",
       "        -1.01918717e+00, -2.94743386e+01,  5.51087017e+00,  5.96532526e+01,\n",
       "        -8.68590437e+00, -1.84181408e+01, -3.59072663e+00, -2.15550448e+01,\n",
       "         1.00101934e+01,  5.93790507e+00,  3.21124537e+01,  3.45709852e+01,\n",
       "        -1.48321761e+01, -2.98422657e+00, -5.01491234e+00, -1.86537668e+01,\n",
       "        -4.22083407e+01, -2.53854272e+01, -1.32332425e+01, -2.33453952e+01,\n",
       "         1.70672594e+01,  2.62693935e+01, -3.49866822e+01,  3.08230301e+01,\n",
       "        -4.04871948e+01, -8.55866793e+00, -3.75970612e+01,  2.71073469e+01,\n",
       "        -2.03068974e+01,  1.35772957e+01, -2.18699035e+01,  1.12061194e+01,\n",
       "         1.04843131e+01,  1.29516246e+01,  5.91202502e+01,  2.00275338e+01,\n",
       "         1.59004492e+01, -1.34272217e+01,  7.13177333e+00,  1.57464319e+01,\n",
       "         2.43261436e+01,  9.45211978e+00,  3.79599480e+00,  3.41772137e+01,\n",
       "        -1.19813208e+01, -1.36033874e+01,  1.05092657e+00, -2.57271996e+01,\n",
       "        -1.14502614e+01, -1.36875667e+00, -1.48509293e+01,  3.37192181e+01,\n",
       "         4.06692831e+01,  1.48337452e+01, -1.07763495e+01,  1.45285549e+01,\n",
       "         2.37554446e+01, -3.69417092e+01,  2.84895366e+01,  2.48214249e+01,\n",
       "        -1.33388571e+01, -1.39242818e+01, -1.73661262e+01,  3.30621089e+01,\n",
       "         1.21747448e+01, -3.96542789e+00,  1.48762909e+00, -3.24877189e-01,\n",
       "         3.33891427e+01, -2.41472122e+00,  2.90357284e+01, -1.52004181e+00,\n",
       "         1.75792218e+01,  2.59302336e+01,  1.52627051e+01,  7.84240276e+01,\n",
       "        -4.26038998e+01,  9.52966194e+00,  1.07602738e+01,  5.00764450e+01,\n",
       "         4.42270548e+01, -1.46204902e+01, -3.02724365e+00, -1.09424135e+01,\n",
       "        -2.42851420e+01, -9.17675269e+00, -2.14525386e+00, -1.12377790e+01,\n",
       "         1.18089909e-01,  3.05489812e+00, -8.28178393e+00,  2.28827346e+01,\n",
       "        -9.08842821e+00, -8.39697692e+00, -5.45788842e+01, -1.13936993e+01,\n",
       "        -2.53124090e+00, -2.01729325e+01,  2.08935385e+01,  8.63445748e+00,\n",
       "        -3.00485879e+01, -1.03836275e+01,  3.78661185e+01, -2.03712976e+01,\n",
       "         1.44947707e+01, -2.01661463e+01, -2.29437099e+01, -1.23694507e+00,\n",
       "         6.80008364e+01, -2.79397602e+00, -1.68927333e+01,  3.79497679e+01,\n",
       "        -4.04500281e+01,  2.27203573e+01, -1.53250429e+01,  2.97992678e+01,\n",
       "        -4.85449399e+01,  2.62080605e+01, -1.17341753e+00,  2.11933141e+01,\n",
       "         1.86871372e+01,  5.11003429e+00, -2.11371332e+00, -3.87686981e+01,\n",
       "        -1.04594484e+01, -6.83792786e+00, -4.15732515e+01, -2.60690605e+01,\n",
       "        -3.63347037e+01,  3.32228751e+00, -4.22548670e+01,  3.15337939e+01,\n",
       "        -4.77343551e+01,  4.29954086e-01,  7.19485305e+01, -8.55900754e+00,\n",
       "        -4.09382054e+01, -2.08956709e+01, -2.13132047e+00, -1.80085111e+01,\n",
       "        -2.44330562e+00,  8.31348521e+00, -2.06845067e+01, -2.99118145e+01,\n",
       "         1.19648957e+01, -7.02804376e+00,  4.37448220e+01,  1.51315333e+01,\n",
       "         1.15598181e+01,  2.27365980e+01,  8.41676932e+00, -1.61914846e+00,\n",
       "         6.28852941e+01, -6.40175030e+00,  4.14118505e+01, -3.31584329e+00,\n",
       "        -3.61345388e+01,  3.65873166e+00, -3.19090094e+01,  2.74947079e+01,\n",
       "        -2.60593740e+00, -1.12432490e+01, -3.94373974e+01, -2.07701289e+01,\n",
       "         9.89171229e+00,  4.00093703e+01, -2.13980965e+01,  1.65018218e+01,\n",
       "         1.26596603e+00,  1.16782668e+01,  2.37324448e+00, -3.00639635e+00,\n",
       "         7.03024870e+00, -9.74052521e+00, -3.58352826e+00, -2.74036866e+01,\n",
       "        -2.82695292e+00,  7.51636000e+00, -1.96770273e+01,  2.74038110e+01,\n",
       "         8.58960958e+00, -2.08414337e+00,  1.55993961e+01,  2.86648943e+01,\n",
       "        -3.38149451e+01,  2.74085357e+01, -3.65246583e+01,  7.62900470e+00,\n",
       "        -1.38079421e+01,  5.07255666e+00, -2.86876522e+00, -7.34122550e+01,\n",
       "         4.78282734e+01,  1.44166829e+01, -1.36790232e+01, -8.91074797e+00,\n",
       "        -2.40809109e+01, -2.29541197e+01,  3.51348858e+01, -2.93674108e+01,\n",
       "         1.18617490e+01,  4.59845524e+00, -3.82752243e+00,  2.55706389e+01,\n",
       "         6.54198802e+01, -1.95985441e+01, -2.48681112e+01, -1.48527240e+01,\n",
       "         5.91225273e+01,  2.50109055e+01, -2.73658308e+01, -7.86087891e+01,\n",
       "        -3.90960030e-01, -2.04927695e+01, -2.65392280e+01,  5.61978876e+00,\n",
       "        -1.03338343e+01,  9.41572918e+00,  6.34883682e+00, -1.26480900e+01,\n",
       "         1.19045027e+01,  1.56536768e+01,  9.78306340e+00,  3.35575060e+01,\n",
       "         1.96990172e+01, -3.51420360e+01,  1.38340180e+01, -2.61413882e+01,\n",
       "        -9.74301302e-01,  2.22993046e+01, -9.18193656e+00,  3.08637638e+01,\n",
       "        -7.74774139e+00,  1.29765015e+01, -3.36062011e-01,  7.90819195e+00,\n",
       "        -3.60320155e+01,  4.04215516e+01, -3.18941916e+01, -7.41105422e+00,\n",
       "        -4.78543013e+01,  1.02509807e+00, -1.31434387e+01,  7.42852863e+00,\n",
       "        -3.62758251e+01,  1.55145224e+01,  3.31691960e+01,  1.18220820e+01,\n",
       "         2.69806626e+01,  5.46944388e+01,  9.76034293e+00, -5.53895356e+01,\n",
       "        -7.13940344e-01,  2.03628108e+01,  3.18228205e+01,  3.58656179e+01,\n",
       "        -1.68609907e+01,  2.72384866e+01,  1.85430916e+01, -1.10757948e+01,\n",
       "         1.29295265e+01,  1.05402900e+01,  1.60577076e+01,  1.30077209e+01,\n",
       "         2.21051822e+01,  2.54914109e+01, -7.80158708e+00, -1.15848636e+01,\n",
       "        -8.34094325e+00,  1.61739453e+01, -4.05483029e+01,  2.89321637e+01,\n",
       "        -1.32822849e+01, -1.19168304e+01,  1.11666723e+01,  1.85859061e+01,\n",
       "        -5.72973937e+00,  2.58906530e+01, -1.97037454e+01, -8.62948978e+00,\n",
       "        -5.41359379e+01, -5.58034458e+01, -1.12780384e+01, -1.85175154e+01,\n",
       "         2.88183014e+01, -1.15975863e+01, -9.35980292e+00, -2.47541347e+01,\n",
       "         8.42433587e+00,  1.52926318e+01, -2.44904534e+01,  3.29427433e+01,\n",
       "        -1.83949012e+00,  9.77949086e+00,  2.36887539e+01, -1.66427754e+01,\n",
       "        -2.97073797e+00,  1.63910003e+01,  2.80716902e+01, -1.78429644e+01,\n",
       "        -2.24568812e+01, -1.75248337e+01, -2.21871103e+01, -4.16938153e+00,\n",
       "        -2.20410747e+01,  5.41986136e+00,  2.69610544e+01, -1.78803471e+01,\n",
       "        -1.51478096e+01, -2.36431587e-01,  1.57067212e+01,  3.92004857e+01,\n",
       "         1.68428087e+01,  2.11648474e+01, -1.14165796e+00,  1.05319687e+01,\n",
       "        -2.28991135e+01,  3.29879156e+01, -6.32071216e+00, -1.31283087e+01,\n",
       "        -2.91323046e+01,  2.30336205e+01, -1.88073168e+01,  1.86019813e+01,\n",
       "        -5.64003336e+00, -4.96550147e+01, -3.46347286e+01,  8.51817706e+00,\n",
       "        -2.08289562e+01,  7.27486016e+01,  3.36660860e+01, -1.21569596e+01,\n",
       "         5.93895139e+01, -1.23347887e+01, -3.32700033e+01, -2.96228598e+01,\n",
       "         6.14732858e+00,  1.54145702e+01, -3.54392653e+01, -4.69984096e+01,\n",
       "        -4.10220158e+01, -2.17834930e+01, -4.05894519e+01, -7.68248012e+00,\n",
       "         5.92166863e+01,  7.87856806e+00, -1.29970470e+00, -2.80581906e+00,\n",
       "         7.68897025e+00,  1.60998987e+01,  2.77188359e+01,  1.35513884e+01,\n",
       "        -5.95597766e+00, -2.07818870e-01, -2.59089516e+01,  3.34566749e+01,\n",
       "        -3.24384702e+01, -1.33293555e+01, -1.36728398e+01, -1.82801916e+01,\n",
       "         2.16151575e+01,  6.61618996e+00, -4.09462964e+01, -2.21500832e+01,\n",
       "        -3.88889824e+01, -1.35247877e+01,  2.09740984e+01,  6.66442687e-01,\n",
       "        -2.34146330e+01,  1.42424550e+01,  3.71409660e+00, -2.34792544e+01,\n",
       "        -3.42797016e+01, -1.43282280e+01,  1.92488100e+01, -1.46342752e+01,\n",
       "        -1.83210993e+01,  1.38198414e+01, -1.15702442e+01, -3.60846283e+00,\n",
       "         5.39015029e+00, -3.25192628e+01,  1.51810317e+01,  6.00897723e+01,\n",
       "        -4.65684357e+00,  6.27551769e+00,  3.39538941e+00,  1.47081526e+01,\n",
       "         2.23987017e+01,  6.20024721e+00, -2.36012889e+00, -1.69315157e+01,\n",
       "        -3.26941247e+01,  1.56598793e+01,  2.11921108e+01,  3.88747182e+00,\n",
       "         2.30164014e+01,  7.77040068e+00,  4.51463416e+01, -1.97245774e+01,\n",
       "        -3.36009782e+01,  6.52827807e-01,  1.61272399e+01, -2.66984593e+00,\n",
       "        -1.17166937e+01, -2.66234322e+01,  1.91611559e+01, -3.14245774e+01,\n",
       "         3.74658757e+01, -4.51183474e+01,  1.69004556e+01,  4.50074645e+01,\n",
       "        -1.46490770e+01, -1.09782203e+01,  5.77426837e+00, -5.67373255e+00,\n",
       "        -1.11049464e+01,  2.56514805e+00, -1.87040278e+01,  1.73014490e+01,\n",
       "        -4.47839989e+01, -1.52063094e+00,  1.51534027e+01,  4.17933521e+01,\n",
       "        -1.45198487e+01, -1.24697902e+01,  1.64445489e+01, -4.57425872e+01,\n",
       "         1.78176202e+01, -3.19201940e+01,  8.19300657e+00, -2.93340310e+01,\n",
       "         5.21060986e+00, -1.63156771e+01,  6.18814086e+00, -3.83321981e+01,\n",
       "        -1.17639770e+00, -1.62757923e+01, -1.93570018e+00, -7.06167727e+00,\n",
       "        -2.30233730e-01,  1.32035794e+01, -4.27093956e+01, -1.81774194e+01,\n",
       "        -4.24218435e+01, -2.85084039e+00,  2.40080681e+01, -1.02599627e+01,\n",
       "        -8.60245988e+00,  2.34548961e+01, -5.52101676e+00,  2.92314663e+01,\n",
       "        -3.14022731e+01, -4.79164908e+00, -3.07147519e+00, -3.17093036e+01,\n",
       "         5.26417838e+00,  6.13111523e+01, -3.72215571e+01,  5.95270908e+00,\n",
       "        -5.45113131e+01,  1.61772849e+00, -1.11107042e+01,  4.29343885e+01,\n",
       "        -5.80918875e+00, -1.92927706e+01, -3.15980711e+01,  4.60669743e+01,\n",
       "        -2.40652915e+01, -1.76056371e+01,  2.73986212e+01, -2.02130757e+01,\n",
       "         1.52819538e+01,  2.30584386e+01, -2.14618971e+01, -1.38366975e+01,\n",
       "        -5.82666944e+00, -2.20847916e+01, -9.56866041e+00,  4.83260794e+00,\n",
       "        -1.38854016e+01,  5.43774993e+01,  4.14361162e+01, -4.53167072e+01,\n",
       "         2.56430101e+01,  2.47561105e+01, -1.76683098e+01, -4.48035958e+00,\n",
       "        -4.90861616e+00, -2.91107939e+00,  4.82334191e+01,  5.24661088e+01,\n",
       "         4.17738621e+00, -1.43950888e+01, -9.00006118e-01,  2.01396386e+01,\n",
       "        -2.06143878e+01,  2.90629328e+00,  3.03125782e+01,  1.74098543e+01,\n",
       "        -1.41714857e+01, -3.39874751e+01, -2.70183763e+01,  1.11599615e+01,\n",
       "         3.06226881e+01, -1.27561718e+01,  4.09303958e+01,  3.65682334e+00,\n",
       "        -2.34718659e+01,  1.29245440e+00, -1.37445712e+00,  1.93422738e+01,\n",
       "        -4.71883320e+01, -1.55337290e+01, -2.56711520e+01, -1.87901319e+01,\n",
       "         5.59733314e+01, -3.74879943e+01,  6.24319868e+00, -5.60272872e+00,\n",
       "        -5.66122871e+01, -1.84090049e+01, -1.30194760e+01, -2.70124513e+01,\n",
       "        -1.75630588e+01, -2.66181900e+01,  6.83718232e+01, -2.68306851e+01,\n",
       "        -2.50353958e+01, -3.93272487e+00,  4.93054572e+00, -3.68584973e+01,\n",
       "         1.04278662e+01, -4.34969438e+01,  3.54218642e+01,  5.87864824e+00,\n",
       "        -3.09421589e+00, -1.15901914e+01,  2.24477029e+01,  1.17595175e+01,\n",
       "        -1.11512112e+01,  2.86521054e+01,  1.27479445e+01, -6.90652463e+00,\n",
       "         3.92906160e+01,  8.59780027e+00,  4.51427836e+01,  1.16471571e+01,\n",
       "        -1.10570463e+01,  1.18437023e+01, -1.61425985e+00,  5.19723128e+01,\n",
       "        -6.46885454e+00,  5.00717302e+00,  1.67026755e+01, -2.39158526e+01,\n",
       "         9.42156174e+00, -3.40111507e+00, -2.48469744e+01,  3.60001437e+00,\n",
       "        -1.27794842e+00, -5.85965813e+01, -2.30143031e+01,  2.63045025e+01,\n",
       "        -1.29815570e+01, -4.60876145e+01,  3.41161442e-01, -2.66699098e+00,\n",
       "         2.69437321e+01, -3.82917387e+01, -2.38342192e+01,  3.94466243e+01,\n",
       "         7.22841969e+00,  6.38208193e+00, -4.41525521e+01,  2.57701268e+01,\n",
       "         1.36973485e+01,  4.72939240e+01,  2.57095595e+01,  1.15418161e+01,\n",
       "        -1.10418051e+01,  9.14435143e+00, -1.90025474e+01,  1.72478941e+01,\n",
       "         9.55420204e+00, -1.92266395e-01, -1.93970288e+01,  1.31403561e+01,\n",
       "         1.11427301e+01,  1.75259018e+01,  2.97232379e+01,  4.89065508e+01,\n",
       "         5.03691696e+01,  5.46031680e+01,  9.00461433e+00, -1.07279051e+01,\n",
       "        -3.92490615e+01, -1.83947236e+01, -5.28611226e+00, -1.16406430e+01,\n",
       "         5.43393242e+01, -3.27850904e+01,  2.35477375e+01, -5.07978315e+01,\n",
       "         1.24200188e+01,  9.76887150e+00,  6.75809883e+00,  3.89251281e+01,\n",
       "         3.79657622e+00, -1.79955267e+01,  4.54622951e+01, -4.19576007e+01,\n",
       "         6.43198766e+00, -1.27510092e+01,  2.05103115e+01, -1.07826421e+01,\n",
       "         8.51435709e+00,  1.72946961e+01, -9.64962733e+00, -5.50264829e+00,\n",
       "         4.95065066e+00,  3.79182209e+01, -2.69775630e+01, -2.13514220e+01,\n",
       "         1.51394837e+01, -4.95314160e-01,  2.91081819e+01,  6.56315396e+00,\n",
       "        -2.81171516e+00, -2.78929965e+01, -2.17234617e+01, -3.57502391e+00,\n",
       "        -1.52599400e+01,  4.18231396e+01,  8.98863490e+00, -1.46278789e+00,\n",
       "         2.00021794e+01,  3.90994305e+00,  5.36857449e+01,  7.97702212e+00,\n",
       "        -1.73543945e+01,  2.62040602e+01, -2.37100588e+01, -2.41415441e+01,\n",
       "        -5.45429615e+00,  1.78139357e+01,  4.92097500e-01, -3.13868540e+01,\n",
       "         1.82594011e+01, -3.59276648e+01, -2.30708286e+01, -1.73332449e+01,\n",
       "         1.64777491e+01,  2.38965917e+00, -5.39158579e+01,  2.46383751e+00,\n",
       "        -1.65872844e+01,  2.64820254e+01,  3.27844347e+01,  3.23347638e-01,\n",
       "        -1.02239626e+01,  2.24086351e+01,  2.23234278e+01,  2.08059800e+01,\n",
       "         3.68535125e+01,  2.38155614e+01, -1.78169197e+01,  3.99013756e+01,\n",
       "         1.30318792e+01, -5.21112857e+01, -9.85506648e+00,  1.80318205e+01,\n",
       "        -8.74243654e+00, -1.94335360e+01,  1.66056056e+00,  1.78764295e+01,\n",
       "        -6.69235562e-02, -2.62028894e+00,  1.23729223e+01,  2.16714883e+00,\n",
       "        -8.86474863e+00, -1.57730016e+01,  5.45143063e+01, -1.49145590e+01,\n",
       "         6.16729271e+00,  3.52369880e+00,  1.13513331e+01,  1.26606406e+01,\n",
       "         2.57985267e+01,  1.97311755e+01, -6.91272572e+00,  2.13669738e+01,\n",
       "         1.13089080e+01,  1.60676395e+01, -2.30754664e+01, -2.93856459e+01,\n",
       "        -1.82931784e+01, -3.32316983e+01, -1.02656321e+01,  3.78997876e+00,\n",
       "         3.42402794e+01, -1.10985850e+01, -1.66566442e+01, -3.71930017e+00,\n",
       "        -3.71402638e+01,  5.26999059e+01, -8.90614445e+00, -2.28723030e+01,\n",
       "        -7.34629630e+01,  7.73881639e+00, -2.24653209e+01,  4.14159861e+01,\n",
       "         3.95287080e+01, -1.48978632e+01, -1.24999862e+01,  1.08649201e+01,\n",
       "         2.67170140e+01,  7.36375417e+00,  2.91600974e+01, -1.82425639e+01,\n",
       "        -7.61520694e+00,  4.85729139e-01, -2.53445226e+01,  1.95302914e+01,\n",
       "        -3.65351577e+01, -2.49216410e+01, -5.13497691e+01,  7.49671153e+00,\n",
       "        -4.09407294e+01,  3.22983184e+00,  4.93001873e+00, -1.43715273e+01,\n",
       "         1.73467899e+00,  2.02353241e+01, -3.81660862e+01, -9.79374960e+00,\n",
       "        -8.00163361e+00, -6.20695334e+01, -1.97850143e+00,  2.93644096e+01,\n",
       "         2.46911753e+01, -2.64633336e+01, -1.84772996e+01,  1.65853458e+01,\n",
       "        -4.48071430e+00, -4.79042794e+01,  1.33563176e+01,  1.54032602e+01,\n",
       "         4.29754082e+01,  2.23354976e+01, -3.84110056e+01, -1.30177726e+01,\n",
       "         2.27919250e+01,  2.37858396e+01, -2.12412569e+01,  8.43500611e+00,\n",
       "         1.02976602e+01, -8.99336951e+00,  4.21670462e+01,  3.38193319e+01,\n",
       "        -4.16723495e+01, -5.62608324e+01,  4.11790114e+01,  5.39305797e+01,\n",
       "         7.45724219e+00, -1.28199312e+01, -1.94504061e+00, -2.79035294e+01,\n",
       "         1.60072778e+01, -1.82526624e+01,  2.50940689e+01,  2.20271498e+01,\n",
       "        -1.83715412e+01, -3.27378856e+00, -1.15894114e+01, -4.71754716e+00,\n",
       "        -2.91029751e+00, -2.27326174e+01, -4.30946287e+01,  7.10110775e+00,\n",
       "         5.26979034e+01, -3.81003346e+01, -5.96934886e+00,  2.95553946e+01,\n",
       "        -1.87504061e+01, -3.10881921e+00, -3.16457979e+01, -2.99588740e+01,\n",
       "         1.55730714e+01,  2.08777332e+01, -1.72582937e+01, -2.01579468e+01,\n",
       "        -1.33297054e+01,  1.15648351e+01,  3.16478628e+00, -2.51004979e+01,\n",
       "        -2.49192250e+01,  2.34554434e+01,  9.00352165e+00,  2.80358226e+01,\n",
       "        -4.87551581e+01, -2.84198567e+01,  5.54675013e+01,  3.79461770e+00,\n",
       "         1.50450243e+01, -3.36449967e+00, -3.10403395e+01, -4.31752988e+01,\n",
       "         4.72222325e+01, -1.09037263e+00,  2.50866557e+01,  8.98273324e-01,\n",
       "         1.21399536e+01, -1.69595986e+01, -2.24417173e+01, -3.41187555e+00,\n",
       "         1.19007793e+01,  3.40467544e+00,  2.46029852e+00,  1.00528714e+00,\n",
       "        -3.29950227e+01,  4.55205363e+01, -1.32373619e+01,  1.40741791e+01,\n",
       "         2.07928933e+01,  2.78410173e+01, -5.91652408e+00, -2.39517722e+01,\n",
       "         2.72215147e+01, -2.03169423e-01,  1.59292735e+01,  3.56522210e+00,\n",
       "        -1.48470526e+01,  1.98526614e+01, -9.81536958e+00, -1.30433486e+00]))"
      ]
     },
     "execution_count": 2,
     "metadata": {},
     "output_type": "execute_result"
    }
   ],
   "source": [
    "X,y"
   ]
  },
  {
   "cell_type": "code",
   "execution_count": 7,
   "metadata": {},
   "outputs": [
    {
     "name": "stdout",
     "output_type": "stream",
     "text": [
      "[[ 0.49671415 -0.1382643 ]\n",
      " [ 0.64768854  1.52302986]\n",
      " [-0.23415337 -0.23413696]\n",
      " [-0.46947439  0.54256004]\n",
      " [ 1.57921282  0.76743473]] \n",
      "\n",
      " [  6.73763609  37.79636891 -10.27658818   0.40174828  42.22684334]\n"
     ]
    }
   ],
   "source": [
    "from sklearn.datasets import make_regression\n",
    "X, y = make_regression(n_samples=5, n_features=2, noise=1, random_state=42)\n",
    "print(X,\"\\n\"*2,y)"
   ]
  },
  {
   "cell_type": "code",
   "execution_count": 30,
   "metadata": {},
   "outputs": [
    {
     "data": {
      "image/png": "[encoded data removed]",
      "text/plain": [
       "<Figure size 640x480 with 1 Axes>"
      ]
     },
     "metadata": {},
     "output_type": "display_data"
    }
   ],
   "source": [
    "import numpy as np\n",
    "import matplotlib.pyplot as plt\n",
    "from sklearn.datasets import make_regression\n",
    "\n",
    "# 生成数据集\n",
    "X, y = make_regression(n_samples=100, n_features=1, noise=10)\n",
    "# 不同次调用生成的X,y的数据跨度往往是不同的\n",
    "\n",
    "# 绘制散点图\n",
    "plt.scatter(X, y)\n",
    "\n",
    "# 绘制回归直线\n",
    "x_min, x_max = plt.xlim()#获取本次生成数据的跨度\n",
    "coef, bias = np.polyfit(X.ravel(), y.ravel(), 1)\n",
    "plt.plot([x_min, x_max], [x_min * coef + bias, x_max * coef + bias], 'r')\n",
    "\n",
    "# 添加标题和标签\n",
    "plt.title(\"Random Regression Problem\")\n",
    "plt.xlabel(\"Input Feature\")\n",
    "plt.ylabel(\"Target Value\")\n",
    "\n",
    "# 显示图像\n",
    "plt.show()"
   ]
  },
  {
   "cell_type": "code",
   "execution_count": 42,
   "metadata": {},
   "outputs": [
    {
     "data": {
      "image/png": "[encoded data removed]",
      "text/plain": [
       "<Figure size 640x480 with 1 Axes>"
      ]
     },
     "metadata": {},
     "output_type": "display_data"
    }
   ],
   "source": [
    "import numpy as np\n",
    "import matplotlib.pyplot as plt\n",
    "\n",
    "# 生成数据\n",
    "x = np.linspace(-10, 10, 100)\n",
    "y = 3 * x + 10 + np.random.randn(100) * 5\n",
    "\n",
    "# 计算拟合直线的系数\n",
    "# 由于是拟合线性函数,返回的结果形如array([3.01458133, 9.44181608])的数组y=coef*x+bias\n",
    "coef, bias = np.polyfit(x, y, 1)\n",
    "\n",
    "# 绘制散点图和拟合直线\n",
    "plt.scatter(x, y)\n",
    "\n",
    "y=coef * x + bias\n",
    "plt.plot(x, y, color='red')\n",
    "\n",
    "# 添加标题和标签\n",
    "plt.title(\"Linear Regression Example\")\n",
    "plt.xlabel(\"Input Feature\")\n",
    "plt.ylabel(\"Target Value\")\n",
    "\n",
    "# 显示图像\n",
    "plt.show()"
   ]
  },
  {
   "cell_type": "code",
   "execution_count": 34,
   "metadata": {},
   "outputs": [
    {
     "data": {
      "text/plain": [
       "array([3.01458133, 9.44181608])"
      ]
     },
     "execution_count": 34,
     "metadata": {},
     "output_type": "execute_result"
    }
   ],
   "source": [
    "np.polyfit(x, y, 1)"
   ]
  },
  {
   "cell_type": "code",
   "execution_count": 33,
   "metadata": {},
   "outputs": [
    {
     "data": {
      "text/plain": [
       "(3.0145813339161687, 9.441816083962832)"
      ]
     },
     "execution_count": 33,
     "metadata": {},
     "output_type": "execute_result"
    }
   ],
   "source": [
    "coef,bias"
   ]
  },
  {
   "cell_type": "code",
   "execution_count": 9,
   "metadata": {},
   "outputs": [
    {
     "data": {
      "text/plain": [
       "(-3.404071958146907, 2.4917504983318)"
      ]
     },
     "execution_count": 9,
     "metadata": {},
     "output_type": "execute_result"
    }
   ],
   "source": [
    "x_min,x_max"
   ]
  },
  {
   "cell_type": "code",
   "execution_count": 44,
   "metadata": {},
   "outputs": [
    {
     "name": "stdout",
     "output_type": "stream",
     "text": [
      "('fit_time', array([0.01552558, 0.00299954, 0.0059998 , 0.0040009 , 0.00300074]))\n",
      "('score_time', array([0.        , 0.00100017, 0.        , 0.        , 0.        ]))\n",
      "('test_score', array([0.90468242, 0.8604173 , 0.89786489, 0.9145173 , 0.89278255]))\n",
      "('train_score', array([0.92046141, 0.92835467, 0.92186638, 0.91778192, 0.92238646]))\n"
     ]
    }
   ],
   "source": [
    "from sklearn.datasets import make_regression\n",
    "from sklearn.linear_model import LinearRegression\n",
    "from sklearn.model_selection import cross_validate\n",
    "\n",
    "X, y = make_regression(n_samples=1000, noise=50,random_state=0)\n",
    "# 默认维数维100\n",
    "# X.shape,y.shape=1000,100\n",
    "\n",
    "lr = LinearRegression()\n",
    "result = cross_validate(lr, X, y)  # defaults to 5-fold CV\n",
    "result['test_score']  # r_squared score is high because dataset is easy\n",
    "result = cross_validate(lr, X, y, cv=5, return_train_score=True)\n",
    "for v in result.items():\n",
    "    print(v)\n",
    "# print(result)"
   ]
  },
  {
   "cell_type": "code",
   "execution_count": 37,
   "metadata": {},
   "outputs": [
    {
     "name": "stdout",
     "output_type": "stream",
     "text": [
      "('fit_time', array([0.01100659, 0.00796485, 0.00699973, 0.00802064, 0.00799823]))\n",
      "('score_time', array([0.00400233, 0.        , 0.00199962, 0.00096464, 0.        ]))\n",
      "('test_score', array([1., 1., 1., 1., 1.]))\n",
      "('train_score', array([1., 1., 1., 1., 1.]))\n"
     ]
    }
   ],
   "source": [
    "from sklearn.datasets import make_regression\n",
    "from sklearn.linear_model import LinearRegression\n",
    "from sklearn.model_selection import cross_validate\n",
    "\n",
    "X, y = make_regression(n_samples=1000, random_state=0)\n",
    "lr = LinearRegression()\n",
    "\n",
    "result = cross_validate(lr, X, y, cv=5, return_train_score=True)\n",
    "for v in result.items():\n",
    "    print(v)\n",
    "# print(result)"
   ]
  },
  {
   "cell_type": "code",
   "execution_count": 56,
   "metadata": {},
   "outputs": [
    {
     "name": "stdout",
     "output_type": "stream",
     "text": [
      "X shape: (1000, 20)\n",
      "y shape: (1000,)\n"
     ]
    }
   ],
   "source": [
    "from sklearn.datasets import make_classification\n",
    "\n",
    "X, y = make_classification(n_samples=1000, n_features=20, n_classes=5, n_informative=10, n_redundant=5, n_repeated=2, class_sep=2.0, random_state=0)\n",
    "\n",
    "print(\"X shape:\", X.shape)\n",
    "print(\"y shape:\", y.shape)"
   ]
  },
  {
   "cell_type": "code",
   "execution_count": 54,
   "metadata": {},
   "outputs": [
    {
     "name": "stdout",
     "output_type": "stream",
     "text": [
      "Accuracy: 0.92\n",
      "Accuracy: 0.95\n",
      "Accuracy: 0.97\n",
      "Accuracy: 0.93\n",
      "Accuracy: 0.92\n"
     ]
    }
   ],
   "source": [
    "from sklearn.datasets import make_classification\n",
    "from sklearn.linear_model import LogisticRegression\n",
    "from sklearn.model_selection import KFold\n",
    "from sklearn.metrics import accuracy_score\n",
    "\n",
    "X, y = make_classification(n_samples=1000, random_state=0)\n",
    "kf = KFold(n_splits=5, shuffle=True)\n",
    "\n",
    "for train_index, test_index in kf.split(X):\n",
    "    X_train, X_test = X[train_index], X[test_index]\n",
    "    y_train, y_test = y[train_index], y[test_index]\n",
    "    lr = LogisticRegression()\n",
    "    lr.fit(X_train, y_train)\n",
    "    y_pred = lr.predict(X_test)\n",
    "    acc = accuracy_score(y_test, y_pred)\n",
    "    print(\"Accuracy: {:.2f}\".format(acc))"
   ]
  },
  {
   "cell_type": "code",
   "execution_count": 13,
   "metadata": {},
   "outputs": [
    {
     "name": "stderr",
     "output_type": "stream",
     "text": [
      "d:\\condaPythonEnvs\\tf2.10\\lib\\site-packages\\sklearn\\linear_model\\_stochastic_gradient.py:163: FutureWarning: The loss 'log' was deprecated in v1.1 and will be removed in version 1.3. Use `loss='log_loss'` which is equivalent.\n",
      "  warnings.warn(\n"
     ]
    },
    {
     "data": {
      "image/png": "[encoded data removed]",
      "text/plain": [
       "<Figure size 640x480 with 1 Axes>"
      ]
     },
     "metadata": {},
     "output_type": "display_data"
    }
   ],
   "source": [
    "# 导入所需的库和模块：\n",
    "from sklearn.datasets import make_classification\n",
    "from sklearn.linear_model import SGDClassifier\n",
    "from sklearn.metrics import accuracy_score\n",
    "import matplotlib.pyplot as plt\n",
    "import matplotlib.animation as animation\n",
    "# 创建Figure和Axes对象，并初始化数据：\n",
    "fig, ax = plt.subplots()\n",
    "ax.set_xlim(0, 100)\n",
    "ax.set_ylim(0, 1)\n",
    "line, = ax.plot([], [], lw=2)\n",
    "# 在上述代码中，我们设置了x轴的范围为0到100，y轴的范围为0到1，并创建了一个空的Line2D对象line。\n",
    "\n",
    "# 创建分类数据集并创建SGD分类器：\n",
    "X, y = make_classification(n_classes=2, random_state=42)\n",
    "clf = SGDClassifier(loss='log', max_iter=1, learning_rate='constant', eta0=0.01)\n",
    "# 在上述代码中，我们使用make_classification函数生成一个二分类数据集，并创建了一个使用对数损失函数的SGD分类器。我们将max_iter设置为1，并将learning_rate设置为constant，以便在每个partial_fit中使用相同的学习率。eta0表示学习率的初始值。\n",
    "\n",
    "# 定义更新函数，用于逐步训练模型并更新图形：\n",
    "def update(num):\n",
    "    clf.partial_fit(X, y, classes=[0, 1])\n",
    "    y_pred = clf.predict(X)\n",
    "    accuracy = accuracy_score(y, y_pred)\n",
    "    line.set_data(range(num+1), [accuracy]*len(range(num+1)))\n",
    "    return line,\n",
    "# 在上述代码中，update函数接受一个参数num，表示当前的训练迭代次数。在每次迭代中，我们使用partial_fit方法逐步训练模型，并使用accuracy_score函数计算模型在当前数据集上的准确率。最后，我们将准确率数据更新到line对象中，并返回line对象，告诉FuncAnimation对象需要更新的部分。\n",
    "\n",
    "# 创建FuncAnimation对象，并显示动态图形：\n",
    "ani = animation.FuncAnimation(fig, update, frames=100, interval=50, blit=True)\n",
    "plt.show()"
   ]
  },
  {
   "cell_type": "code",
   "execution_count": 52,
   "metadata": {},
   "outputs": [
    {
     "name": "stdout",
     "output_type": "stream",
     "text": [
      "Accuracy: 0.97\n"
     ]
    }
   ],
   "source": [
    "from sklearn.datasets import make_classification\n",
    "from sklearn.linear_model import LogisticRegression\n",
    "from sklearn.model_selection import train_test_split\n",
    "from sklearn.metrics import accuracy_score\n",
    "\n",
    "X, y = make_classification(n_samples=1000, random_state=0)\n",
    "X_train, X_test, y_train, y_test = train_test_split(X, y, random_state=0)\n",
    "lr = LogisticRegression()\n",
    "\n",
    "lr.fit(X_train, y_train)\n",
    "y_pred = lr.predict(X_test)\n",
    "acc_score = accuracy_score(y_test, y_pred)\n",
    "print(\"Accuracy: {:.2f}\".format(acc_score))"
   ]
  },
  {
   "cell_type": "code",
   "execution_count": 9,
   "metadata": {},
   "outputs": [
    {
     "name": "stdout",
     "output_type": "stream",
     "text": [
      "(0.5, 2) [ True False False  True]\n"
     ]
    }
   ],
   "source": [
    "from sklearn.metrics import accuracy_score\n",
    "y_pred = [0, 2, 1, 3]\n",
    "y_true = [0, 1, 2, 3]\n",
    "res=accuracy_score(y_true, y_pred),accuracy_score(y_true, y_pred, normalize=False)\n",
    "#预测的4个样本中,y_pred[0,3]是对的,其余是错误的\n",
    "res_bool=np.array(y_pred)==np.array(y_true)\n",
    "print(res,res_bool)"
   ]
  },
  {
   "cell_type": "code",
   "execution_count": 49,
   "metadata": {},
   "outputs": [
    {
     "name": "stdout",
     "output_type": "stream",
     "text": [
      "scores=array([0.93 , 0.94 , 0.935, 0.955, 0.945])\n",
      "Accuracy: 0.94 (+/- 0.01)\n"
     ]
    }
   ],
   "source": [
    "from sklearn.datasets import make_classification\n",
    "from sklearn.linear_model import LogisticRegression\n",
    "from sklearn.model_selection import cross_val_score\n",
    "\n",
    "X, y = make_classification(n_samples=1000, random_state=0)\n",
    "\n",
    "lr = LogisticRegression()\n",
    "scores = cross_val_score(lr, X, y, cv=5)\n",
    "\n",
    "print(f'{scores=}')\n",
    "print(\"Accuracy: {:.2f} (+/- {:.2f})\".format(scores.mean(), scores.std()))"
   ]
  },
  {
   "cell_type": "code",
   "execution_count": 25,
   "metadata": {},
   "outputs": [
    {
     "name": "stdout",
     "output_type": "stream",
     "text": [
      "Cross-validation scores:  [0.96388889 0.91944444 0.96657382 0.9637883  0.92479109]\n",
      "Train scores:  [1. 1. 1. 1. 1.]\n",
      "Test scores:  [0.96388889 0.91944444 0.96657382 0.9637883  0.92479109]\n",
      "Fit time:  [0.02603984 0.02895069 0.02299786 0.02199674 0.02299476]\n",
      "Score time:  [0.00700474 0.00800204 0.00800157 0.0090034  0.01099873]\n"
     ]
    }
   ],
   "source": [
    "from sklearn.datasets import load_digits\n",
    "from sklearn.svm import SVC\n",
    "from sklearn.model_selection import cross_val_score, cross_validate\n",
    "\n",
    "digits = load_digits()\n",
    "X, y = digits.data, digits.target # type: ignore\n",
    "\n",
    "# 使用cross_val_score函数\n",
    "clf = SVC(kernel='linear', C=1, random_state=0)\n",
    "scores = cross_val_score(clf, X, y, cv=5)\n",
    "print(\"Cross-validation scores: \", scores)\n",
    "\n",
    "# 使用cross_validate函数\n",
    "scoring = ['accuracy', 'precision_macro', 'recall_macro', 'f1_macro']\n",
    "clf = SVC(kernel='linear', C=1, random_state=0)\n",
    "scores = cross_validate(clf, X, y, scoring=scoring, cv=5, return_train_score=True)\n",
    "print(\"Train scores: \", scores['train_accuracy'])\n",
    "print(\"Test scores: \", scores['test_accuracy'])\n",
    "print(\"Fit time: \", scores['fit_time'])\n",
    "print(\"Score time: \", scores['score_time'])"
   ]
  },
  {
   "cell_type": "code",
   "execution_count": null,
   "metadata": {},
   "outputs": [],
   "source": [
    "import numpy as np\n",
    "from sklearn.model_selection import KFold\n",
    "sn=np.random.rand\n",
    "X = np.array([[1, 2], [3, 4], [1, 2], [3, 4]])\n",
    "y = np.array([1, 2, 3, 4])\n",
    "kf = KFold(n_splits=2)\n",
    "n=kf.get_n_splits(X)\n",
    "print(n)\n",
    "print(kf)\n",
    "\n",
    "for i, (train_index, test_index) in enumerate(kf.split(X)):\n",
    "    print(f\"Fold {i}:\")\n",
    "    print(f\"  Train: index={train_index}\")\n",
    "    print(f\"  Test:  index={test_index}\")"
   ]
  },
  {
   "cell_type": "code",
   "execution_count": null,
   "metadata": {},
   "outputs": [],
   "source": [
    "X=np.random.randint(5,size=(12,3))\n",
    "y=np.random.choice(100,size=len(X))\n",
    "X,y"
   ]
  },
  {
   "cell_type": "code",
   "execution_count": null,
   "metadata": {},
   "outputs": [],
   "source": [
    "kf2 = KFold(n_splits=3,shuffle=True)\n",
    "n=kf2.get_n_splits(X)\n",
    "print(n)\n",
    "print(kf2)\n",
    "\n",
    "for i, (train_index, test_index) in enumerate(kf2.split(X)):\n",
    "    print(f\"Fold {i}:\")\n",
    "    print(f\"  Train: index={train_index}\")\n",
    "    print(f\"  Test:  index={test_index}\")\n",
    "    merge=np.concatenate((train_index,test_index))\n",
    "    merge_sort=merge\n",
    "    merge_sort.sort()\n",
    "    print(f'{merge_sort=}')"
   ]
  },
  {
   "cell_type": "code",
   "execution_count": 100,
   "metadata": {},
   "outputs": [],
   "source": [
    "from sklearn.datasets import fetch_california_housing\n",
    "from sklearn.ensemble import RandomForestRegressor\n",
    "from sklearn.model_selection import RandomizedSearchCV\n",
    "from sklearn.model_selection import train_test_split\n",
    "from scipy.stats import randint\n",
    "\n",
    "X, y = fetch_california_housing(return_X_y=True)\n",
    "X_train, X_test, y_train, y_test = train_test_split(X, y, random_state=0)\n",
    "\n",
    "# define the parameter space that will be searched over\n",
    "param_distributions = {'n_estimators': randint(1, 5),\n",
    "                       'max_depth': randint(5, 10)}\n",
    "\n",
    "# now create a searchCV object and fit it to the data\n",
    "search = RandomizedSearchCV(estimator=RandomForestRegressor(random_state=0),\n",
    "                            n_iter=5,\n",
    "                            param_distributions=param_distributions,\n",
    "                            random_state=0)\n",
    "search.fit(X_train, y_train)\n",
    "\n",
    "search.best_params_\n",
    "\n",
    "\n",
    "# the search object now acts like a normal random forest estimator\n",
    "# with max_depth=9 and n_estimators=4\n",
    "search.score(X_test, y_test)"
   ]
  },
  {
   "cell_type": "code",
   "execution_count": 18,
   "metadata": {},
   "outputs": [
    {
     "name": "stdout",
     "output_type": "stream",
     "text": [
      "Mean Squared Error: 2881.5791057118386\n"
     ]
    }
   ],
   "source": [
    "from sklearn.datasets import load_diabetes\n",
    "from sklearn.ensemble import RandomForestRegressor\n",
    "from sklearn.model_selection import train_test_split\n",
    "from sklearn.metrics import mean_squared_error\n",
    "\n",
    "# load data\n",
    "diabetes = load_diabetes()\n",
    "X, y = diabetes.data, diabetes.target\n",
    "\n",
    "# split data into train and test sets\n",
    "X_train, X_test, y_train, y_test = train_test_split(X, y, test_size=0.2, random_state=42)\n",
    "\n",
    "# train the model\n",
    "model = RandomForestRegressor(n_estimators=100, max_depth=5, random_state=42)\n",
    "model.fit(X_train, y_train)\n",
    "\n",
    "# make predictions on test set\n",
    "y_pred = model.predict(X_test)\n",
    "\n",
    "# evaluate the model\n",
    "mse = mean_squared_error(y_test, y_pred)\n",
    "print(\"Mean Squared Error:\", mse)"
   ]
  },
  {
   "cell_type": "code",
   "execution_count": null,
   "metadata": {},
   "outputs": [],
   "source": [
    "from sklearn.pipeline import Pipeline\n",
    "from sklearn.preprocessing import StandardScaler\n",
    "from sklearn.svm import SVR\n",
    "from sklearn.model_selection import GridSearchCV\n",
    "\n",
    "# create a pipeline with scaling and SVM\n",
    "pipeline = Pipeline([\n",
    "    ('scaler', StandardScaler()),\n",
    "    ('svm', SVR())\n",
    "])\n",
    "\n",
    "# define the parameter space for grid search\n",
    "param_grid = {\n",
    "    'svm__C': [0.1, 1, 10],\n",
    "    'svm__gamma': [0.01, 0.1, 1],\n",
    "}\n",
    "\n",
    "# create a grid search object and fit to the data\n",
    "grid_search = GridSearchCV(pipeline, param_grid, cv=5)\n",
    "grid_search.fit(X_train, y_train)\n",
    "\n",
    "# evaluate the best model on the test set\n",
    "grid_search.score(X_test, y_test)"
   ]
  },
  {
   "cell_type": "code",
   "execution_count": 12,
   "metadata": {},
   "outputs": [
    {
     "data": {
      "text/plain": [
       "array([[0, 1, 0],\n",
       "       [2, 3, 1],\n",
       "       [4, 5, 2],\n",
       "       [6, 7, 3],\n",
       "       [8, 9, 4]])"
      ]
     },
     "execution_count": 12,
     "metadata": {},
     "output_type": "execute_result"
    }
   ],
   "source": [
    "import numpy as np\n",
    "from sklearn.model_selection import train_test_split\n",
    "X, y = np.arange(10).reshape((5, 2)), range(5)\n",
    "y=np.array(y).reshape(-1,1)\n",
    "X,y\n",
    "# np.hstack((X,y))"
   ]
  },
  {
   "cell_type": "code",
   "execution_count": 16,
   "metadata": {},
   "outputs": [
    {
     "data": {
      "text/plain": [
       "[array([[0],\n",
       "        [1],\n",
       "        [2]]),\n",
       " array([[3],\n",
       "        [4]])]"
      ]
     },
     "execution_count": 16,
     "metadata": {},
     "output_type": "execute_result"
    }
   ],
   "source": [
    "train_test_split(y,shuffle=False)"
   ]
  },
  {
   "cell_type": "code",
   "execution_count": 13,
   "metadata": {},
   "outputs": [],
   "source": [
    "X_train, X_test, y_train, y_test = train_test_split(X, y, test_size=0.33, random_state=42)"
   ]
  },
  {
   "cell_type": "code",
   "execution_count": 14,
   "metadata": {},
   "outputs": [
    {
     "data": {
      "text/plain": [
       "(array([[4, 5],\n",
       "        [0, 1],\n",
       "        [6, 7]]),\n",
       " array([[2],\n",
       "        [0],\n",
       "        [3]]),\n",
       " array([[2, 3],\n",
       "        [8, 9]]),\n",
       " array([[1],\n",
       "        [4]]))"
      ]
     },
     "execution_count": 14,
     "metadata": {},
     "output_type": "execute_result"
    }
   ],
   "source": [
    "X_train,y_train,X_test,y_test"
   ]
  }
 ],
 "metadata": {
  "kernelspec": {
   "display_name": "sklearn0.24",
   "language": "python",
   "name": "python3"
  },
  "language_info": {
   "codemirror_mode": {
    "name": "ipython",
    "version": 3
   },
   "file_extension": ".py",
   "mimetype": "text/x-python",
   "name": "python",
   "nbconvert_exporter": "python",
   "pygments_lexer": "ipython3",
   "version": "3.9.16"
  },
  "orig_nbformat": 4
 },
 "nbformat": 4,
 "nbformat_minor": 2
}
